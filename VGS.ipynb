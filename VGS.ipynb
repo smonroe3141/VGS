{
 "cells": [
  {
   "cell_type": "markdown",
   "metadata": {},
   "source": [
    "### JFET: $V_{GS}$ unknown, $I_D$ known ..."
   ]
  },
  {
   "cell_type": "markdown",
   "metadata": {},
   "source": [
    "$$I_D=I_{DSS}\\left ( 1-\\frac{V_{GS}}{V_{GS_{(off)}}} \\right )^2$$"
   ]
  },
  {
   "cell_type": "markdown",
   "metadata": {},
   "source": [
    "Rearrange ...<br><br>\n",
    "$$I_{DSS}\\left ( 1-\\frac{V_{GS}}{V_{GS_{(off)}}} \\right )^2=I_D$$"
   ]
  },
  {
   "cell_type": "markdown",
   "metadata": {},
   "source": [
    "Divide both sides by $I_{DSS}$ ..."
   ]
  },
  {
   "cell_type": "markdown",
   "metadata": {},
   "source": [
    "$$\\left ( 1-\\frac{V_{GS}}{V_{GS_{(off)}}} \\right )^2=\\frac{I_D}{I_{DSS}}$$"
   ]
  },
  {
   "cell_type": "markdown",
   "metadata": {},
   "source": [
    "Take the square root of both sides ..."
   ]
  },
  {
   "cell_type": "markdown",
   "metadata": {},
   "source": [
    "$$1-\\frac{V_{GS}}{V_{GS_{(off)}}}=\\sqrt{\\frac{I_D}{I_{DSS}}}$$"
   ]
  },
  {
   "cell_type": "markdown",
   "metadata": {},
   "source": [
    "Subtract 1 from both sides ..."
   ]
  },
  {
   "cell_type": "markdown",
   "metadata": {},
   "source": [
    "$$-\\frac{V_{GS}}{V_{GS_{(off)}}}=\\sqrt{\\frac{I_D}{I_{DSS}}}-1$$"
   ]
  },
  {
   "cell_type": "markdown",
   "metadata": {},
   "source": [
    "Multiply both sides by $-V_{GS_{(off)}}$"
   ]
  },
  {
   "cell_type": "markdown",
   "metadata": {},
   "source": [
    "$$V_{GS}=V_{GS_{(off)}}-V_{GS_{(off)}}\\sqrt{\\frac{I_D}{I_{DSS}}}$$"
   ]
  },
  {
   "cell_type": "markdown",
   "metadata": {},
   "source": [
    "Test this formula ..."
   ]
  },
  {
   "cell_type": "code",
   "execution_count": 1,
   "metadata": {
    "collapsed": false
   },
   "outputs": [
    {
     "name": "stdout",
     "output_type": "stream",
     "text": [
      "-1.02512626585\n"
     ]
    }
   ],
   "source": [
    "from numpy import sqrt\n",
    "IDSS=6.0E-3\n",
    "VGSOFF=-3.5\n",
    "ID=3.0E-3\n",
    "VGS=VGSOFF-((VGSOFF*(sqrt(ID))/sqrt(IDSS)))\n",
    "print(VGS)"
   ]
  },
  {
   "cell_type": "markdown",
   "metadata": {},
   "source": [
    "The slide claims a value of $-1.05V$ for $V_{GS}$ ... what is the uncertainty?"
   ]
  },
  {
   "cell_type": "code",
   "execution_count": 3,
   "metadata": {
    "collapsed": false
   },
   "outputs": [
    {
     "name": "stdout",
     "output_type": "stream",
     "text": [
      "U= 2.36892706218 %\n"
     ]
    }
   ],
   "source": [
    "x1=-1.05\n",
    "x2=VGS\n",
    "err=(abs(x1-x2)/x1)*100.0\n",
    "print(\"U=\",abs(err),\"%\")"
   ]
  }
 ],
 "metadata": {
  "anaconda-cloud": {},
  "kernelspec": {
   "display_name": "Python [conda root]",
   "language": "python",
   "name": "conda-root-py"
  },
  "language_info": {
   "codemirror_mode": {
    "name": "ipython",
    "version": 3
   },
   "file_extension": ".py",
   "mimetype": "text/x-python",
   "name": "python",
   "nbconvert_exporter": "python",
   "pygments_lexer": "ipython3",
   "version": "3.5.2"
  }
 },
 "nbformat": 4,
 "nbformat_minor": 1
}
